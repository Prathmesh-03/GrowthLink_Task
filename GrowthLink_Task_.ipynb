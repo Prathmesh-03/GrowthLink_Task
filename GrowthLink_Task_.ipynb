{
 "cells": [
  {
   "cell_type": "code",
   "execution_count": 1,
   "id": "dab01f71-48fb-48b2-ab9a-d3ae92425f01",
   "metadata": {},
   "outputs": [],
   "source": [
    "# importing required packages and models and algorithms\n",
    "\n",
    "import pandas as pd \n",
    "import numpy as np\n",
    "\n",
    "from sklearn.preprocessing import LabelEncoder  # requires to convert string type of data into int\n",
    "from typing import Dict\n",
    "\n",
    "from sklearn.model_selection import train_test_split   # requires to split the data into train and test\n",
    "\n",
    "from sklearn.linear_model import LogisticRegression # this are algorithms to classification\n",
    "from sklearn.tree import DecisionTreeClassifier\n",
    "from sklearn.neighbors import KNeighborsClassifier\n",
    "from sklearn.ensemble import RandomForestClassifier\n",
    "from sklearn.naive_bayes import GaussianNB,MultinomialNB\n",
    "\n",
    "from sklearn.metrics import accuracy_score,precision_score,confusion_matrix  # to check the performance of model\n",
    "from sklearn.model_selection import cross_val_score  # to check the accuracy score of model by using average\n",
    "\n",
    "import pickle  # to dump the selected model"
   ]
  },
  {
   "cell_type": "code",
   "execution_count": 2,
   "id": "21a5645d-c67f-4b96-838d-97c0343e8978",
   "metadata": {},
   "outputs": [],
   "source": [
    "data = pd.read_csv(\"Iris.csv\")  #load data into 'data'"
   ]
  },
  {
   "cell_type": "code",
   "execution_count": 3,
   "id": "d1f7684d-ecf8-49b0-b645-d7480c133e93",
   "metadata": {},
   "outputs": [
    {
     "data": {
      "text/html": [
       "<div>\n",
       "<style scoped>\n",
       "    .dataframe tbody tr th:only-of-type {\n",
       "        vertical-align: middle;\n",
       "    }\n",
       "\n",
       "    .dataframe tbody tr th {\n",
       "        vertical-align: top;\n",
       "    }\n",
       "\n",
       "    .dataframe thead th {\n",
       "        text-align: right;\n",
       "    }\n",
       "</style>\n",
       "<table border=\"1\" class=\"dataframe\">\n",
       "  <thead>\n",
       "    <tr style=\"text-align: right;\">\n",
       "      <th></th>\n",
       "      <th>sepal_length</th>\n",
       "      <th>sepal_width</th>\n",
       "      <th>petal_length</th>\n",
       "      <th>petal_width</th>\n",
       "      <th>species</th>\n",
       "    </tr>\n",
       "  </thead>\n",
       "  <tbody>\n",
       "    <tr>\n",
       "      <th>0</th>\n",
       "      <td>5.1</td>\n",
       "      <td>3.5</td>\n",
       "      <td>1.4</td>\n",
       "      <td>0.2</td>\n",
       "      <td>Iris-setosa</td>\n",
       "    </tr>\n",
       "    <tr>\n",
       "      <th>1</th>\n",
       "      <td>4.9</td>\n",
       "      <td>3.0</td>\n",
       "      <td>1.4</td>\n",
       "      <td>0.2</td>\n",
       "      <td>Iris-setosa</td>\n",
       "    </tr>\n",
       "    <tr>\n",
       "      <th>2</th>\n",
       "      <td>4.7</td>\n",
       "      <td>3.2</td>\n",
       "      <td>1.3</td>\n",
       "      <td>0.2</td>\n",
       "      <td>Iris-setosa</td>\n",
       "    </tr>\n",
       "    <tr>\n",
       "      <th>3</th>\n",
       "      <td>4.6</td>\n",
       "      <td>3.1</td>\n",
       "      <td>1.5</td>\n",
       "      <td>0.2</td>\n",
       "      <td>Iris-setosa</td>\n",
       "    </tr>\n",
       "    <tr>\n",
       "      <th>4</th>\n",
       "      <td>5.0</td>\n",
       "      <td>3.6</td>\n",
       "      <td>1.4</td>\n",
       "      <td>0.2</td>\n",
       "      <td>Iris-setosa</td>\n",
       "    </tr>\n",
       "  </tbody>\n",
       "</table>\n",
       "</div>"
      ],
      "text/plain": [
       "   sepal_length  sepal_width  petal_length  petal_width      species\n",
       "0           5.1          3.5           1.4          0.2  Iris-setosa\n",
       "1           4.9          3.0           1.4          0.2  Iris-setosa\n",
       "2           4.7          3.2           1.3          0.2  Iris-setosa\n",
       "3           4.6          3.1           1.5          0.2  Iris-setosa\n",
       "4           5.0          3.6           1.4          0.2  Iris-setosa"
      ]
     },
     "execution_count": 3,
     "metadata": {},
     "output_type": "execute_result"
    }
   ],
   "source": [
    "data.head()   #shows the first 5 rows of data"
   ]
  },
  {
   "cell_type": "code",
   "execution_count": 4,
   "id": "49a394e3-d13e-4ca4-b8ca-107927be3714",
   "metadata": {},
   "outputs": [
    {
     "data": {
      "text/plain": [
       "sepal_length    0\n",
       "sepal_width     0\n",
       "petal_length    0\n",
       "petal_width     0\n",
       "species         0\n",
       "dtype: int64"
      ]
     },
     "execution_count": 4,
     "metadata": {},
     "output_type": "execute_result"
    }
   ],
   "source": [
    "data.isnull().sum()   # return the sum of null values in all columns"
   ]
  },
  {
   "cell_type": "code",
   "execution_count": 5,
   "id": "919b6c4e-ae2b-4501-a8f6-ddfaa812b891",
   "metadata": {},
   "outputs": [
    {
     "data": {
      "text/html": [
       "<div>\n",
       "<style scoped>\n",
       "    .dataframe tbody tr th:only-of-type {\n",
       "        vertical-align: middle;\n",
       "    }\n",
       "\n",
       "    .dataframe tbody tr th {\n",
       "        vertical-align: top;\n",
       "    }\n",
       "\n",
       "    .dataframe thead th {\n",
       "        text-align: right;\n",
       "    }\n",
       "</style>\n",
       "<table border=\"1\" class=\"dataframe\">\n",
       "  <thead>\n",
       "    <tr style=\"text-align: right;\">\n",
       "      <th></th>\n",
       "      <th>sepal_length</th>\n",
       "      <th>sepal_width</th>\n",
       "      <th>petal_length</th>\n",
       "      <th>petal_width</th>\n",
       "    </tr>\n",
       "  </thead>\n",
       "  <tbody>\n",
       "    <tr>\n",
       "      <th>count</th>\n",
       "      <td>150.000000</td>\n",
       "      <td>150.000000</td>\n",
       "      <td>150.000000</td>\n",
       "      <td>150.000000</td>\n",
       "    </tr>\n",
       "    <tr>\n",
       "      <th>mean</th>\n",
       "      <td>5.843333</td>\n",
       "      <td>3.054000</td>\n",
       "      <td>3.758667</td>\n",
       "      <td>1.198667</td>\n",
       "    </tr>\n",
       "    <tr>\n",
       "      <th>std</th>\n",
       "      <td>0.828066</td>\n",
       "      <td>0.433594</td>\n",
       "      <td>1.764420</td>\n",
       "      <td>0.763161</td>\n",
       "    </tr>\n",
       "    <tr>\n",
       "      <th>min</th>\n",
       "      <td>4.300000</td>\n",
       "      <td>2.000000</td>\n",
       "      <td>1.000000</td>\n",
       "      <td>0.100000</td>\n",
       "    </tr>\n",
       "    <tr>\n",
       "      <th>25%</th>\n",
       "      <td>5.100000</td>\n",
       "      <td>2.800000</td>\n",
       "      <td>1.600000</td>\n",
       "      <td>0.300000</td>\n",
       "    </tr>\n",
       "    <tr>\n",
       "      <th>50%</th>\n",
       "      <td>5.800000</td>\n",
       "      <td>3.000000</td>\n",
       "      <td>4.350000</td>\n",
       "      <td>1.300000</td>\n",
       "    </tr>\n",
       "    <tr>\n",
       "      <th>75%</th>\n",
       "      <td>6.400000</td>\n",
       "      <td>3.300000</td>\n",
       "      <td>5.100000</td>\n",
       "      <td>1.800000</td>\n",
       "    </tr>\n",
       "    <tr>\n",
       "      <th>max</th>\n",
       "      <td>7.900000</td>\n",
       "      <td>4.400000</td>\n",
       "      <td>6.900000</td>\n",
       "      <td>2.500000</td>\n",
       "    </tr>\n",
       "  </tbody>\n",
       "</table>\n",
       "</div>"
      ],
      "text/plain": [
       "       sepal_length  sepal_width  petal_length  petal_width\n",
       "count    150.000000   150.000000    150.000000   150.000000\n",
       "mean       5.843333     3.054000      3.758667     1.198667\n",
       "std        0.828066     0.433594      1.764420     0.763161\n",
       "min        4.300000     2.000000      1.000000     0.100000\n",
       "25%        5.100000     2.800000      1.600000     0.300000\n",
       "50%        5.800000     3.000000      4.350000     1.300000\n",
       "75%        6.400000     3.300000      5.100000     1.800000\n",
       "max        7.900000     4.400000      6.900000     2.500000"
      ]
     },
     "execution_count": 5,
     "metadata": {},
     "output_type": "execute_result"
    }
   ],
   "source": [
    "data.describe() # it describes the overall mathematical relationships"
   ]
  },
  {
   "cell_type": "code",
   "execution_count": 6,
   "id": "cc5148ff-73ab-4822-8192-45b42f0fc231",
   "metadata": {},
   "outputs": [
    {
     "name": "stdout",
     "output_type": "stream",
     "text": [
      "<class 'pandas.core.frame.DataFrame'>\n",
      "RangeIndex: 150 entries, 0 to 149\n",
      "Data columns (total 5 columns):\n",
      " #   Column        Non-Null Count  Dtype  \n",
      "---  ------        --------------  -----  \n",
      " 0   sepal_length  150 non-null    float64\n",
      " 1   sepal_width   150 non-null    float64\n",
      " 2   petal_length  150 non-null    float64\n",
      " 3   petal_width   150 non-null    float64\n",
      " 4   species       150 non-null    object \n",
      "dtypes: float64(4), object(1)\n",
      "memory usage: 6.0+ KB\n"
     ]
    }
   ],
   "source": [
    "data.info()  #returns the dtype and null values"
   ]
  },
  {
   "cell_type": "code",
   "execution_count": 7,
   "id": "c89a5203-073e-4c81-ad6e-fed88ddf9f00",
   "metadata": {},
   "outputs": [
    {
     "data": {
      "text/plain": [
       "(150, 5)"
      ]
     },
     "execution_count": 7,
     "metadata": {},
     "output_type": "execute_result"
    }
   ],
   "source": [
    "data.shape  # returns the shape of data"
   ]
  },
  {
   "cell_type": "code",
   "execution_count": 9,
   "id": "e8e38ca8-3c25-4646-b5dc-2baf20628114",
   "metadata": {},
   "outputs": [],
   "source": [
    "label_encoder = LabelEncoder()  # assigns the label encoder class to varibale"
   ]
  },
  {
   "cell_type": "code",
   "execution_count": 11,
   "id": "ec32bef9-adee-4e66-b240-be88cb68c700",
   "metadata": {},
   "outputs": [],
   "source": [
    "X_train,X_test,y_train,y_test = train_test_split(data.drop(columns=['species']),\n",
    "                                                 data['species'],\n",
    "                                                 test_size=0.2,\n",
    "                                                random_state=17)   # split the date into train and test"
   ]
  },
  {
   "cell_type": "code",
   "execution_count": 12,
   "id": "12a8e62b-b91c-44a4-b3d2-2917cead9359",
   "metadata": {},
   "outputs": [
    {
     "data": {
      "text/html": [
       "<div>\n",
       "<style scoped>\n",
       "    .dataframe tbody tr th:only-of-type {\n",
       "        vertical-align: middle;\n",
       "    }\n",
       "\n",
       "    .dataframe tbody tr th {\n",
       "        vertical-align: top;\n",
       "    }\n",
       "\n",
       "    .dataframe thead th {\n",
       "        text-align: right;\n",
       "    }\n",
       "</style>\n",
       "<table border=\"1\" class=\"dataframe\">\n",
       "  <thead>\n",
       "    <tr style=\"text-align: right;\">\n",
       "      <th></th>\n",
       "      <th>sepal_length</th>\n",
       "      <th>sepal_width</th>\n",
       "      <th>petal_length</th>\n",
       "      <th>petal_width</th>\n",
       "    </tr>\n",
       "  </thead>\n",
       "  <tbody>\n",
       "    <tr>\n",
       "      <th>29</th>\n",
       "      <td>4.7</td>\n",
       "      <td>3.2</td>\n",
       "      <td>1.6</td>\n",
       "      <td>0.2</td>\n",
       "    </tr>\n",
       "    <tr>\n",
       "      <th>98</th>\n",
       "      <td>5.1</td>\n",
       "      <td>2.5</td>\n",
       "      <td>3.0</td>\n",
       "      <td>1.1</td>\n",
       "    </tr>\n",
       "    <tr>\n",
       "      <th>37</th>\n",
       "      <td>4.9</td>\n",
       "      <td>3.1</td>\n",
       "      <td>1.5</td>\n",
       "      <td>0.1</td>\n",
       "    </tr>\n",
       "    <tr>\n",
       "      <th>5</th>\n",
       "      <td>5.4</td>\n",
       "      <td>3.9</td>\n",
       "      <td>1.7</td>\n",
       "      <td>0.4</td>\n",
       "    </tr>\n",
       "    <tr>\n",
       "      <th>81</th>\n",
       "      <td>5.5</td>\n",
       "      <td>2.4</td>\n",
       "      <td>3.7</td>\n",
       "      <td>1.0</td>\n",
       "    </tr>\n",
       "    <tr>\n",
       "      <th>...</th>\n",
       "      <td>...</td>\n",
       "      <td>...</td>\n",
       "      <td>...</td>\n",
       "      <td>...</td>\n",
       "    </tr>\n",
       "    <tr>\n",
       "      <th>22</th>\n",
       "      <td>4.6</td>\n",
       "      <td>3.6</td>\n",
       "      <td>1.0</td>\n",
       "      <td>0.2</td>\n",
       "    </tr>\n",
       "    <tr>\n",
       "      <th>57</th>\n",
       "      <td>4.9</td>\n",
       "      <td>2.4</td>\n",
       "      <td>3.3</td>\n",
       "      <td>1.0</td>\n",
       "    </tr>\n",
       "    <tr>\n",
       "      <th>134</th>\n",
       "      <td>6.1</td>\n",
       "      <td>2.6</td>\n",
       "      <td>5.6</td>\n",
       "      <td>1.4</td>\n",
       "    </tr>\n",
       "    <tr>\n",
       "      <th>143</th>\n",
       "      <td>6.8</td>\n",
       "      <td>3.2</td>\n",
       "      <td>5.9</td>\n",
       "      <td>2.3</td>\n",
       "    </tr>\n",
       "    <tr>\n",
       "      <th>111</th>\n",
       "      <td>6.4</td>\n",
       "      <td>2.7</td>\n",
       "      <td>5.3</td>\n",
       "      <td>1.9</td>\n",
       "    </tr>\n",
       "  </tbody>\n",
       "</table>\n",
       "<p>120 rows × 4 columns</p>\n",
       "</div>"
      ],
      "text/plain": [
       "     sepal_length  sepal_width  petal_length  petal_width\n",
       "29            4.7          3.2           1.6          0.2\n",
       "98            5.1          2.5           3.0          1.1\n",
       "37            4.9          3.1           1.5          0.1\n",
       "5             5.4          3.9           1.7          0.4\n",
       "81            5.5          2.4           3.7          1.0\n",
       "..            ...          ...           ...          ...\n",
       "22            4.6          3.6           1.0          0.2\n",
       "57            4.9          2.4           3.3          1.0\n",
       "134           6.1          2.6           5.6          1.4\n",
       "143           6.8          3.2           5.9          2.3\n",
       "111           6.4          2.7           5.3          1.9\n",
       "\n",
       "[120 rows x 4 columns]"
      ]
     },
     "execution_count": 12,
     "metadata": {},
     "output_type": "execute_result"
    }
   ],
   "source": [
    "X_train"
   ]
  },
  {
   "cell_type": "code",
   "execution_count": 13,
   "id": "63a6251f-037f-4c23-8b7e-903723ebb365",
   "metadata": {},
   "outputs": [
    {
     "data": {
      "text/plain": [
       "29         Iris-setosa\n",
       "98     Iris-versicolor\n",
       "37         Iris-setosa\n",
       "5          Iris-setosa\n",
       "81     Iris-versicolor\n",
       "            ...       \n",
       "22         Iris-setosa\n",
       "57     Iris-versicolor\n",
       "134     Iris-virginica\n",
       "143     Iris-virginica\n",
       "111     Iris-virginica\n",
       "Name: species, Length: 120, dtype: object"
      ]
     },
     "execution_count": 13,
     "metadata": {},
     "output_type": "execute_result"
    }
   ],
   "source": [
    "y_train"
   ]
  },
  {
   "cell_type": "code",
   "execution_count": 14,
   "id": "4ab154d3-447a-43e6-be8e-9c452defb490",
   "metadata": {},
   "outputs": [],
   "source": [
    "y_train = label_encoder.fit_transform(y_train)  #converts object type of target data into int"
   ]
  },
  {
   "cell_type": "code",
   "execution_count": 15,
   "id": "ba6c25e2-6182-4708-ab7f-9ad352634996",
   "metadata": {},
   "outputs": [],
   "source": [
    "y_test = label_encoder.fit_transform(y_test)"
   ]
  },
  {
   "cell_type": "code",
   "execution_count": 78,
   "id": "25fa1e8f-586e-46f0-8d3f-fa976e6379e4",
   "metadata": {},
   "outputs": [],
   "source": [
    "# to store the int number for each category assigned by label encoder\n",
    "def get_label_encoder_mapping(label_encoder: LabelEncoder) -> Dict[int, str]:\n",
    "    try:\n",
    "        # Create a dictionary mapping of encoded values to original categories\n",
    "        mapping = dict(zip(range(len(label_encoder.classes_)), \n",
    "                         label_encoder.classes_))\n",
    "        return mapping\n",
    "    except AttributeError:\n",
    "        raise AttributeError(\"LabelEncoder must be fitted before getting mapping\")\n",
    "\n",
    "mapping = get_label_encoder_mapping(label_encoder)\n"
   ]
  },
  {
   "cell_type": "code",
   "execution_count": 18,
   "id": "2db269dd-30ab-4b0e-8ed8-4377ef68808a",
   "metadata": {},
   "outputs": [],
   "source": [
    "# creating object of the imported class\n",
    "knc = KNeighborsClassifier()\n",
    "dtc = DecisionTreeClassifier(max_depth=5)\n",
    "lrc = LogisticRegression(solver='liblinear',penalty='l1')\n",
    "rfc = RandomForestClassifier(n_estimators=50,random_state=2)\n",
    "gnb = GaussianNB()\n",
    "mnb = MultinomialNB()"
   ]
  },
  {
   "cell_type": "code",
   "execution_count": 19,
   "id": "dde07317-f0dc-4b3f-a756-9ac0cc565ecd",
   "metadata": {},
   "outputs": [],
   "source": [
    "# to train and store and predict the model performaace on test dataset\n",
    "accuracy_bar = []\n",
    "precision_bar = []\n",
    "cross_val_score_list = [] \n",
    "def train_classifier(clf,X_train,y_train,X_test,y_test):\n",
    "    clf.fit(X_train,y_train)\n",
    "    y_pred = clf.predict(X_test)\n",
    "    \n",
    "    # cross validation using cross_val_score\n",
    "    cvs = cross_val_score(clf, X_train, y_train, cv=5, scoring='accuracy').mean()\n",
    "    accuracy = accuracy_score(y_test,y_pred)\n",
    "    precision = precision_score(y_test,y_pred,average='micro')\n",
    "    accuracy_bar.append(accuracy)\n",
    "    precision_bar.append(precision)\n",
    "    cross_val_score_list.append(cvs)\n",
    "    confusion = confusion_matrix(y_test,y_pred)\n",
    "    return cvs,accuracy,precision,confusion"
   ]
  },
  {
   "cell_type": "code",
   "execution_count": 20,
   "id": "c3c20ac4-d2b8-4037-a8b2-a1882162fee0",
   "metadata": {},
   "outputs": [
    {
     "data": {
      "text/plain": [
       "(0.9666666666666668,\n",
       " 0.9333333333333333,\n",
       " 0.9333333333333333,\n",
       " array([[ 7,  0,  0],\n",
       "        [ 0, 11,  0],\n",
       "        [ 0,  2, 10]], dtype=int64))"
      ]
     },
     "execution_count": 20,
     "metadata": {},
     "output_type": "execute_result"
    }
   ],
   "source": [
    "train_classifier(knc,X_train,y_train,X_test,y_test) #call the function"
   ]
  },
  {
   "cell_type": "code",
   "execution_count": 21,
   "id": "f4d662ad-b130-4901-acdc-30693203743d",
   "metadata": {},
   "outputs": [
    {
     "data": {
      "text/plain": [
       "(0.95,\n",
       " 0.9666666666666667,\n",
       " 0.9666666666666667,\n",
       " array([[ 7,  0,  0],\n",
       "        [ 0, 11,  0],\n",
       "        [ 0,  1, 11]], dtype=int64))"
      ]
     },
     "execution_count": 21,
     "metadata": {},
     "output_type": "execute_result"
    }
   ],
   "source": [
    "train_classifier(dtc,X_train,y_train,X_test,y_test)  #call the function"
   ]
  },
  {
   "cell_type": "code",
   "execution_count": 22,
   "id": "a63048d3-6cce-4e92-9d0e-b69617701ed4",
   "metadata": {},
   "outputs": [
    {
     "data": {
      "text/plain": [
       "(0.9666666666666668,\n",
       " 0.9333333333333333,\n",
       " 0.9333333333333333,\n",
       " array([[ 7,  0,  0],\n",
       "        [ 0,  9,  2],\n",
       "        [ 0,  0, 12]], dtype=int64))"
      ]
     },
     "execution_count": 22,
     "metadata": {},
     "output_type": "execute_result"
    }
   ],
   "source": [
    "train_classifier(lrc,X_train,y_train,X_test,y_test)   #call the function"
   ]
  },
  {
   "cell_type": "code",
   "execution_count": 23,
   "id": "4e9724c6-f2cf-47ea-98a9-975dfe8b77b1",
   "metadata": {},
   "outputs": [
    {
     "data": {
      "text/plain": [
       "(0.9416666666666668,\n",
       " 0.9666666666666667,\n",
       " 0.9666666666666667,\n",
       " array([[ 7,  0,  0],\n",
       "        [ 0, 11,  0],\n",
       "        [ 0,  1, 11]], dtype=int64))"
      ]
     },
     "execution_count": 23,
     "metadata": {},
     "output_type": "execute_result"
    }
   ],
   "source": [
    "train_classifier(rfc,X_train,y_train,X_test,y_test)   #call the function"
   ]
  },
  {
   "cell_type": "code",
   "execution_count": 24,
   "id": "84d4a843-3810-481a-ac0d-d43f7a7811a1",
   "metadata": {},
   "outputs": [
    {
     "data": {
      "text/plain": [
       "(0.95,\n",
       " 0.9666666666666667,\n",
       " 0.9666666666666667,\n",
       " array([[ 7,  0,  0],\n",
       "        [ 0, 11,  0],\n",
       "        [ 0,  1, 11]], dtype=int64))"
      ]
     },
     "execution_count": 24,
     "metadata": {},
     "output_type": "execute_result"
    }
   ],
   "source": [
    "train_classifier(gnb,X_train,y_train,X_test,y_test)   #call the function"
   ]
  },
  {
   "cell_type": "code",
   "execution_count": 25,
   "id": "65be82de-c32e-4602-985d-f24f3628ce64",
   "metadata": {},
   "outputs": [
    {
     "data": {
      "text/plain": [
       "(0.9666666666666668,\n",
       " 0.9666666666666667,\n",
       " 0.9666666666666667,\n",
       " array([[ 7,  0,  0],\n",
       "        [ 0, 11,  0],\n",
       "        [ 0,  1, 11]], dtype=int64))"
      ]
     },
     "execution_count": 25,
     "metadata": {},
     "output_type": "execute_result"
    }
   ],
   "source": [
    "train_classifier(mnb,X_train,y_train,X_test,y_test)  #call the function"
   ]
  },
  {
   "cell_type": "code",
   "execution_count": 129,
   "id": "b67a3c27-ed80-4f11-a69e-3b31aae4324b",
   "metadata": {},
   "outputs": [
    {
     "data": {
      "text/plain": [
       "'Testing................'"
      ]
     },
     "execution_count": 129,
     "metadata": {},
     "output_type": "execute_result"
    }
   ],
   "source": [
    "'''Testing................'''"
   ]
  },
  {
   "cell_type": "code",
   "execution_count": 27,
   "id": "d1e060fc-7fd5-47dd-bbf8-89eb72cf46cf",
   "metadata": {},
   "outputs": [],
   "source": [
    "pickle.dump(mnb,open('Multinomial.pkl','wb'))   #dump the seleted model"
   ]
  },
  {
   "cell_type": "code",
   "execution_count": 56,
   "id": "8a1ff325-2897-481c-bddb-418369cbc158",
   "metadata": {},
   "outputs": [],
   "source": [
    "mnb_model = pickle.load(open('Multinomial.pkl','rb'))    #read the selected model for prediction"
   ]
  },
  {
   "cell_type": "code",
   "execution_count": 139,
   "id": "b66edd0b-fc17-475d-b43e-57c6af42f46b",
   "metadata": {},
   "outputs": [],
   "source": [
    "inp = np.array([2.1,3.5,1.4,5.2]).reshape(1,4)  "
   ]
  },
  {
   "cell_type": "code",
   "execution_count": 141,
   "id": "d939ef50-9f8d-4198-9334-f7b182ae2075",
   "metadata": {},
   "outputs": [
    {
     "name": "stderr",
     "output_type": "stream",
     "text": [
      "C:\\Users\\Prathmesh\\anaconda3\\Lib\\site-packages\\sklearn\\base.py:493: UserWarning: X does not have valid feature names, but MultinomialNB was fitted with feature names\n",
      "  warnings.warn(\n"
     ]
    }
   ],
   "source": [
    "op = tuple(mnb_model.predict(inp))  #test the given input on model"
   ]
  },
  {
   "cell_type": "code",
   "execution_count": 143,
   "id": "e9230070-efec-42e1-b71a-9016312d19ad",
   "metadata": {},
   "outputs": [
    {
     "data": {
      "text/plain": [
       "'Iris-virginica'"
      ]
     },
     "execution_count": 143,
     "metadata": {},
     "output_type": "execute_result"
    }
   ],
   "source": [
    "mapping[op[0]]  #print the output"
   ]
  },
  {
   "cell_type": "code",
   "execution_count": null,
   "id": "9d0dc6c0-cfeb-4039-8b70-37c68a5a9ff4",
   "metadata": {},
   "outputs": [],
   "source": []
  }
 ],
 "metadata": {
  "kernelspec": {
   "display_name": "Python [conda env:base] *",
   "language": "python",
   "name": "conda-base-py"
  },
  "language_info": {
   "codemirror_mode": {
    "name": "ipython",
    "version": 3
   },
   "file_extension": ".py",
   "mimetype": "text/x-python",
   "name": "python",
   "nbconvert_exporter": "python",
   "pygments_lexer": "ipython3",
   "version": "3.12.7"
  }
 },
 "nbformat": 4,
 "nbformat_minor": 5
}
